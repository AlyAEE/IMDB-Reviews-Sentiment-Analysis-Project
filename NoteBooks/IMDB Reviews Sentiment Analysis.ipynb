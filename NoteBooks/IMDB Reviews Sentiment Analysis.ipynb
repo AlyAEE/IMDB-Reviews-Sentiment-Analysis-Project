{
 "cells": [
  {
   "cell_type": "markdown",
   "id": "1058d933-f4d8-4755-8a3d-b8d1548bbc8f",
   "metadata": {},
   "source": [
    "- Some hints for hacking our challenge:\n",
    "- Ask yourself why would they have selected this problem for the challenge? What are some gotchas in this domain I should know about?\n",
    "- What is the highest level of accuracy that others have achieved with this dataset or similar problems / datasets ?\n",
    "- What types of visualizations will help me grasp the nature of the problem / data?\n",
    "- What feature engineering might help improve the signal?\n",
    "- Which modeling techniques are good at capturing the types of relationships I see in this data?\n",
    "- Now that I have a model, how can I be sure that I didn't introduce a bug in the code? If results are too good to be true, they probably are!\n",
    "- What are some of the weaknesses of the model and and how can the model be improved with additional work\n",
    "- List Of Challenges for Cohort 25 and 26\n",
    "- Choose a CV or NLP problem. Do a thorough Exploratory Data Analysis of the dataset and report the final performance metrics for your approach.Suggest ways in which you can improve the model."
   ]
  },
  {
   "cell_type": "markdown",
   "id": "db4ee05d-637b-473a-9710-bc64decfa9e9",
   "metadata": {},
   "source": [
    "### Objective"
   ]
  },
  {
   "cell_type": "markdown",
   "id": "fd171ef9-6bd0-4c3a-a9f9-a7745783d469",
   "metadata": {},
   "source": [
    "### Current Solution"
   ]
  },
  {
   "cell_type": "markdown",
   "id": "d1a30718-1b11-4a7f-b34a-d5a183220fb3",
   "metadata": {
    "jp-MarkdownHeadingCollapsed": true
   },
   "source": [
    "### Frame the Problem"
   ]
  },
  {
   "cell_type": "markdown",
   "id": "1cae7b54-9637-4b01-bc4e-04cb93b0697e",
   "metadata": {
    "jp-MarkdownHeadingCollapsed": true
   },
   "source": [
    "### Performance Measure"
   ]
  },
  {
   "cell_type": "markdown",
   "id": "920c011b-5dc4-44cc-beba-9c6159f3704a",
   "metadata": {},
   "source": [
    "### Data Source\n",
    "https://www.kaggle.com/datasets/lakshmi25npathi/imdb-dataset-of-50k-movie-reviews/data"
   ]
  },
  {
   "cell_type": "markdown",
   "id": "8e94f052-17fd-4593-b27c-8e3c51cd0d27",
   "metadata": {},
   "source": [
    "### Constants"
   ]
  },
  {
   "cell_type": "code",
   "execution_count": 14,
   "id": "045b9d74-5a44-42c2-a73d-27c6e3d0302d",
   "metadata": {},
   "outputs": [],
   "source": [
    "DATA_PATH = '../Data/Raw/IMDB Dataset.csv'\n",
    "PREPROCESSED_PATH = \"../Data/Processed/preprocessed_df.pkl\""
   ]
  },
  {
   "cell_type": "markdown",
   "id": "33b62351-0b5c-47d1-9ad8-e695f74e3ff1",
   "metadata": {},
   "source": [
    "### Packages"
   ]
  },
  {
   "cell_type": "code",
   "execution_count": 60,
   "id": "cb3cd1da-14fa-47fa-a1a8-9bcbf477ae86",
   "metadata": {},
   "outputs": [],
   "source": [
    "import numpy as np\n",
    "import pandas as pd\n",
    "\n",
    "import logging\n",
    "import pickle\n",
    "from pathlib import Path\n",
    "\n",
    "import re\n",
    "import string\n",
    "from nltk.corpus import stopwords\n",
    "\n",
    "import matplotlib.pyplot as plt\n",
    "import seaborn as sns\n",
    "import plotly.graph_objects as go\n",
    "from plotly.subplots import make_subplots\n",
    "import plotly.express as px\n",
    "import plotly.figure_factory as ff\n",
    "import plotly.io as pio\n",
    "\n",
    "from sklearn.preprocessing import StandardScaler\n",
    "from sklearn.manifold import TSNE\n",
    "from sklearn.cluster import AgglomerativeClustering\n",
    "from sklearn.metrics import silhouette_score\n",
    "\n",
    "\n",
    "# pd.options.display.max_rows = 10000\n",
    "# pd.options.display.max_columns = 10000"
   ]
  },
  {
   "cell_type": "markdown",
   "id": "74adf740-d82c-4ae1-bfee-43d3a536c24f",
   "metadata": {
    "jp-MarkdownHeadingCollapsed": true
   },
   "source": [
    "### Functions"
   ]
  },
  {
   "cell_type": "markdown",
   "id": "33f5ce12-46d2-47bd-852a-abdb3d950a48",
   "metadata": {},
   "source": [
    "### Load Dataset"
   ]
  },
  {
   "cell_type": "code",
   "execution_count": 16,
   "id": "450aa7a8-3dc9-484d-aa80-128966304a36",
   "metadata": {
    "scrolled": true
   },
   "outputs": [
    {
     "data": {
      "text/plain": [
       "(50000, 2)"
      ]
     },
     "execution_count": 16,
     "metadata": {},
     "output_type": "execute_result"
    }
   ],
   "source": [
    "# Read Dataset and print shape\n",
    "raw_df = pd.read_csv(DATA_PATH)\n",
    "raw_df.shape"
   ]
  },
  {
   "cell_type": "markdown",
   "id": "71b35128-22bf-4044-9249-a8b996b397ac",
   "metadata": {},
   "source": [
    "### Data Preprocessing"
   ]
  },
  {
   "cell_type": "code",
   "execution_count": 17,
   "id": "529721d2-9b40-4f04-92c8-87e6144fa030",
   "metadata": {},
   "outputs": [
    {
     "data": {
      "text/html": [
       "<div>\n",
       "<style scoped>\n",
       "    .dataframe tbody tr th:only-of-type {\n",
       "        vertical-align: middle;\n",
       "    }\n",
       "\n",
       "    .dataframe tbody tr th {\n",
       "        vertical-align: top;\n",
       "    }\n",
       "\n",
       "    .dataframe thead th {\n",
       "        text-align: right;\n",
       "    }\n",
       "</style>\n",
       "<table border=\"1\" class=\"dataframe\">\n",
       "  <thead>\n",
       "    <tr style=\"text-align: right;\">\n",
       "      <th></th>\n",
       "      <th>review</th>\n",
       "      <th>sentiment</th>\n",
       "    </tr>\n",
       "  </thead>\n",
       "  <tbody>\n",
       "    <tr>\n",
       "      <th>0</th>\n",
       "      <td>One of the other reviewers has mentioned that ...</td>\n",
       "      <td>positive</td>\n",
       "    </tr>\n",
       "    <tr>\n",
       "      <th>1</th>\n",
       "      <td>A wonderful little production. &lt;br /&gt;&lt;br /&gt;The...</td>\n",
       "      <td>positive</td>\n",
       "    </tr>\n",
       "    <tr>\n",
       "      <th>2</th>\n",
       "      <td>I thought this was a wonderful way to spend ti...</td>\n",
       "      <td>positive</td>\n",
       "    </tr>\n",
       "    <tr>\n",
       "      <th>3</th>\n",
       "      <td>Basically there's a family where a little boy ...</td>\n",
       "      <td>negative</td>\n",
       "    </tr>\n",
       "    <tr>\n",
       "      <th>4</th>\n",
       "      <td>Petter Mattei's \"Love in the Time of Money\" is...</td>\n",
       "      <td>positive</td>\n",
       "    </tr>\n",
       "    <tr>\n",
       "      <th>...</th>\n",
       "      <td>...</td>\n",
       "      <td>...</td>\n",
       "    </tr>\n",
       "    <tr>\n",
       "      <th>49995</th>\n",
       "      <td>I thought this movie did a down right good job...</td>\n",
       "      <td>positive</td>\n",
       "    </tr>\n",
       "    <tr>\n",
       "      <th>49996</th>\n",
       "      <td>Bad plot, bad dialogue, bad acting, idiotic di...</td>\n",
       "      <td>negative</td>\n",
       "    </tr>\n",
       "    <tr>\n",
       "      <th>49997</th>\n",
       "      <td>I am a Catholic taught in parochial elementary...</td>\n",
       "      <td>negative</td>\n",
       "    </tr>\n",
       "    <tr>\n",
       "      <th>49998</th>\n",
       "      <td>I'm going to have to disagree with the previou...</td>\n",
       "      <td>negative</td>\n",
       "    </tr>\n",
       "    <tr>\n",
       "      <th>49999</th>\n",
       "      <td>No one expects the Star Trek movies to be high...</td>\n",
       "      <td>negative</td>\n",
       "    </tr>\n",
       "  </tbody>\n",
       "</table>\n",
       "<p>50000 rows × 2 columns</p>\n",
       "</div>"
      ],
      "text/plain": [
       "                                                  review sentiment\n",
       "0      One of the other reviewers has mentioned that ...  positive\n",
       "1      A wonderful little production. <br /><br />The...  positive\n",
       "2      I thought this was a wonderful way to spend ti...  positive\n",
       "3      Basically there's a family where a little boy ...  negative\n",
       "4      Petter Mattei's \"Love in the Time of Money\" is...  positive\n",
       "...                                                  ...       ...\n",
       "49995  I thought this movie did a down right good job...  positive\n",
       "49996  Bad plot, bad dialogue, bad acting, idiotic di...  negative\n",
       "49997  I am a Catholic taught in parochial elementary...  negative\n",
       "49998  I'm going to have to disagree with the previou...  negative\n",
       "49999  No one expects the Star Trek movies to be high...  negative\n",
       "\n",
       "[50000 rows x 2 columns]"
      ]
     },
     "execution_count": 17,
     "metadata": {},
     "output_type": "execute_result"
    }
   ],
   "source": [
    "raw_df"
   ]
  },
  {
   "cell_type": "code",
   "execution_count": 18,
   "id": "001b91b9-b498-4371-a22a-4a17a033caaf",
   "metadata": {},
   "outputs": [
    {
     "name": "stdout",
     "output_type": "stream",
     "text": [
      "<class 'pandas.core.frame.DataFrame'>\n",
      "RangeIndex: 50000 entries, 0 to 49999\n",
      "Data columns (total 2 columns):\n",
      " #   Column     Non-Null Count  Dtype \n",
      "---  ------     --------------  ----- \n",
      " 0   review     50000 non-null  object\n",
      " 1   sentiment  50000 non-null  object\n",
      "dtypes: object(2)\n",
      "memory usage: 781.4+ KB\n"
     ]
    }
   ],
   "source": [
    "raw_df.info()"
   ]
  },
  {
   "cell_type": "markdown",
   "id": "e32fcbe5-fe27-4202-9e5c-e1eab948b20c",
   "metadata": {},
   "source": [
    "- The Dataset Doesn't have null values"
   ]
  },
  {
   "cell_type": "code",
   "execution_count": 19,
   "id": "249de89e-2279-4d47-bda4-0f92edd1c3b9",
   "metadata": {},
   "outputs": [
    {
     "data": {
      "text/plain": [
       "False    49582\n",
       "True       418\n",
       "dtype: int64"
      ]
     },
     "execution_count": 19,
     "metadata": {},
     "output_type": "execute_result"
    }
   ],
   "source": [
    "# Check for Duplicates\n",
    "raw_df.duplicated().value_counts()"
   ]
  },
  {
   "cell_type": "markdown",
   "id": "b3ab55bc-c24c-4ccd-b239-4e023941c9ca",
   "metadata": {},
   "source": [
    "- The Dataset Contains 418 Duplicated samples"
   ]
  },
  {
   "cell_type": "code",
   "execution_count": 20,
   "id": "cd7ddf52-aeb4-4cb7-9a4f-f2ca5f9e1f09",
   "metadata": {
    "scrolled": true
   },
   "outputs": [],
   "source": [
    "# Remove the Duplicates\n",
    "raw_df = raw_df.drop_duplicates()"
   ]
  },
  {
   "cell_type": "code",
   "execution_count": 21,
   "id": "9a3a6a27-957d-4652-87d3-04c8ed6b17fc",
   "metadata": {},
   "outputs": [
    {
     "data": {
      "text/plain": [
       "positive    24884\n",
       "negative    24698\n",
       "Name: sentiment, dtype: int64"
      ]
     },
     "execution_count": 21,
     "metadata": {},
     "output_type": "execute_result"
    }
   ],
   "source": [
    "# Check whether the dataset is balanced or imbalanced?\n",
    "raw_df['sentiment'].value_counts()"
   ]
  },
  {
   "cell_type": "markdown",
   "id": "36a9bf8e-310b-45a2-8aca-b2eb9c46e570",
   "metadata": {},
   "source": [
    "- The Dataset is Balanced"
   ]
  },
  {
   "cell_type": "code",
   "execution_count": 22,
   "id": "2c9beff7-5f90-4efc-9dd9-05aa2e4d3bdd",
   "metadata": {},
   "outputs": [
    {
     "name": "stdout",
     "output_type": "stream",
     "text": [
      "0\n"
     ]
    }
   ],
   "source": [
    "# Check whether any empty reviews exist\n",
    "raw_df['length'] = raw_df['review'].apply(len)\n",
    "print(len(raw_df[raw_df['length'] == 0]))\n",
    "raw_df = raw_df.drop(columns='length')"
   ]
  },
  {
   "cell_type": "markdown",
   "id": "7f934a75-3176-4476-a2e8-830bbcfda83a",
   "metadata": {},
   "source": [
    "- The Dataset doesn't have empty reviews"
   ]
  },
  {
   "cell_type": "code",
   "execution_count": 30,
   "id": "18e3d05d-b3e3-40d9-adab-9cc9cf98d42f",
   "metadata": {},
   "outputs": [],
   "source": [
    "df = raw_df.copy()\n"
   ]
  },
  {
   "cell_type": "code",
   "execution_count": 183,
   "id": "959cba61-5419-4e0b-af40-d0ef9db78495",
   "metadata": {},
   "outputs": [],
   "source": [
    "raw_df = df.copy()"
   ]
  },
  {
   "cell_type": "code",
   "execution_count": 184,
   "id": "0dd0007b-ef67-43ed-b1e7-5ac3a8842c22",
   "metadata": {},
   "outputs": [],
   "source": [
    "# apply text preprocessing"
   ]
  },
  {
   "cell_type": "code",
   "execution_count": 185,
   "id": "8a18533d-2055-42b4-bbc7-0224c9544b1d",
   "metadata": {},
   "outputs": [],
   "source": [
    "# Convert text to lowercase\n",
    "raw_df['review'] = raw_df['review'].str.lower()"
   ]
  },
  {
   "cell_type": "code",
   "execution_count": 186,
   "id": "732c713c-6a3c-4bc7-bd21-8a0a553e92eb",
   "metadata": {},
   "outputs": [],
   "source": [
    "# Remove HTML tags\n",
    "raw_df['review'] = raw_df['review'].apply(lambda x: re.sub('<[^<]+?>', ' ', x))"
   ]
  },
  {
   "cell_type": "code",
   "execution_count": 189,
   "id": "a8bcd9c3-e406-4d8b-b58e-2dc61055842a",
   "metadata": {},
   "outputs": [],
   "source": [
    "# Remove Punctuations\n",
    "raw_df['review'] = raw_df['review'].apply(lambda x: re.sub(r'-', ' ', x))\n",
    "# raw_df['review'] = raw_df['review'].str.translate(str.maketrans('', '', string.punctuation))\n",
    "raw_df['review'] = raw_df['review'].apply(lambda x: re.sub(f\"[{re.escape(string.punctuation)}]\",' ', x))"
   ]
  },
  {
   "cell_type": "code",
   "execution_count": 190,
   "id": "1cb6fb44-8c48-4851-87fa-fcc7038d7f76",
   "metadata": {},
   "outputs": [],
   "source": [
    "# Remove Digits\n",
    "raw_df['review'] = raw_df['review'].apply(lambda x: re.sub(r'\\d+', '', x))"
   ]
  },
  {
   "cell_type": "code",
   "execution_count": 192,
   "id": "2f289335-d6fa-4daf-af45-32cdcb0940aa",
   "metadata": {},
   "outputs": [],
   "source": [
    "# Remove StopWords\n",
    "stop_words = stopwords.words('english')\n",
    "raw_df['review'] = raw_df['review'].apply(lambda x: ' '.join([word for word in x.split() if word not in stop_words]))"
   ]
  },
  {
   "cell_type": "code",
   "execution_count": 202,
   "id": "43bd568f-412f-496f-a44b-ee82bd497883",
   "metadata": {},
   "outputs": [
    {
     "name": "stdout",
     "output_type": "stream",
     "text": [
      "beautiful film set hong kong man mr chow woman mrs chan become close friends suspect spouses affair stylistically film also beautiful wong kar wai uses lot slow motion close ups parts body feet hands waist film reticence properness suggests time period sexy without showing everything wong kar wai also allow audience see spouses look like suggesting mr chow mrs chan together smoking even made look elegant close ups curls smoke really lovely film prepare ending\n",
      "###########################################################\n",
      "beautiful film set in 1962 hong kong about a man (mr. chow) and woman (mrs. chan) who become close friends when they suspect their spouses are having an affair. stylistically, the film is also beautiful. wong kar-wai uses a lot of slow motion and close-ups on parts of the body (feet, hands, waist). the film itself has a reticence and properness that suggests its time period. it's sexy without showing everything. wong kar-wai also doesn't allow the audience to see what the spouses look like, suggesting that mr. chow and mrs. chan should be together. smoking is even made to look elegant with close-ups of the curls of smoke. a really lovely film. just prepare yourself for the ending.<br /><br />\n"
     ]
    }
   ],
   "source": [
    "# Verify your Results\n",
    "i = df.sample(1).index[0]\n",
    "# i = 100\n",
    "print(raw_df['review'].iloc[i])\n",
    "print('###########################################################')\n",
    "print(df['review'].iloc[i])"
   ]
  },
  {
   "cell_type": "markdown",
   "id": "64aa5cff-7f7d-49c9-97af-d30d57322adf",
   "metadata": {},
   "source": [
    "### Exploratory Data Analysis\n",
    "#### Questions wee need to answer"
   ]
  },
  {
   "cell_type": "code",
   "execution_count": null,
   "id": "e4cfde91-292e-473d-9626-e0a408a1340a",
   "metadata": {},
   "outputs": [],
   "source": []
  },
  {
   "cell_type": "code",
   "execution_count": null,
   "id": "c401d400-aed2-46a1-bdb1-01a0ace76be9",
   "metadata": {},
   "outputs": [],
   "source": [
    "raw_df"
   ]
  },
  {
   "cell_type": "code",
   "execution_count": null,
   "id": "6b104fe8-1bc8-485b-b791-345da20fc947",
   "metadata": {},
   "outputs": [],
   "source": []
  },
  {
   "cell_type": "code",
   "execution_count": null,
   "id": "08151b9c-0fe8-4dfd-8ea3-f7f38746b4f6",
   "metadata": {},
   "outputs": [],
   "source": [
    "raw_df.describe()"
   ]
  },
  {
   "cell_type": "code",
   "execution_count": null,
   "id": "cb0536e5-90ad-4ae5-b3af-ee7976d884c6",
   "metadata": {},
   "outputs": [],
   "source": [
    "raw_df.loc[raw_df['length'] == 32].iloc[0,0]"
   ]
  },
  {
   "cell_type": "markdown",
   "id": "7678ff50-0591-4a59-b377-6056551cd73a",
   "metadata": {},
   "source": [
    "### Feature Engineering"
   ]
  },
  {
   "cell_type": "markdown",
   "id": "aa237d78-fa9c-4a15-b5ee-cafef70940b8",
   "metadata": {},
   "source": [
    "### Model Building"
   ]
  }
 ],
 "metadata": {
  "kernelspec": {
   "display_name": "Python 3 (ipykernel)",
   "language": "python",
   "name": "python3"
  },
  "language_info": {
   "codemirror_mode": {
    "name": "ipython",
    "version": 3
   },
   "file_extension": ".py",
   "mimetype": "text/x-python",
   "name": "python",
   "nbconvert_exporter": "python",
   "pygments_lexer": "ipython3",
   "version": "3.11.4"
  }
 },
 "nbformat": 4,
 "nbformat_minor": 5
}
