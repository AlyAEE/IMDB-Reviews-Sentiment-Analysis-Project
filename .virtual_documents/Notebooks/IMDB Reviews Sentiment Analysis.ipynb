




















DATA_PATH = '../Data/Raw/IMDB Dataset.csv'
PREPROCESSED_PATH = "../Data/Processed/preprocessed_df.pkl"





import numpy as np
import pandas as pd

import logging
import pickle
from pathlib import Path

import re
import string
from nltk.corpus import stopwords

import matplotlib.pyplot as plt
import seaborn as sns
import plotly.graph_objects as go
from plotly.subplots import make_subplots
import plotly.express as px
import plotly.figure_factory as ff
import plotly.io as pio

from sklearn.preprocessing import StandardScaler
from sklearn.manifold import TSNE
from sklearn.cluster import AgglomerativeClustering
from sklearn.metrics import silhouette_score


# pd.options.display.max_rows = 10000
# pd.options.display.max_columns = 10000








# Read Dataset and print shape
raw_df = pd.read_csv(DATA_PATH)
raw_df.shape





raw_df


raw_df.info()





# Check for Duplicates
raw_df.duplicated().value_counts()





# Remove the Duplicates
raw_df = raw_df.drop_duplicates()


# Check whether the dataset is balanced or imbalanced?
raw_df['sentiment'].value_counts()





# Check whether any empty reviews exist
raw_df['length'] = raw_df['review'].apply(len)
print(len(raw_df[raw_df['length'] == 0]))
raw_df = raw_df.drop(columns='length')





df = raw_df.copy()



raw_df = df.copy()


# apply text preprocessing


# Convert text to lowercase
raw_df['review'] = raw_df['review'].str.lower()


# Remove HTML tags
raw_df['review'] = raw_df['review'].apply(lambda x: re.sub('<[^<]+?>', ' ', x))


# Remove Punctuations
raw_df['review'] = raw_df['review'].apply(lambda x: re.sub(r'-', ' ', x))
# raw_df['review'] = raw_df['review'].str.translate(str.maketrans('', '', string.punctuation))
raw_df['review'] = raw_df['review'].apply(lambda x: re.sub(f"[{re.escape(string.punctuation)}]",' ', x))


# Remove Digits
raw_df['review'] = raw_df['review'].apply(lambda x: re.sub(r'\d+', '', x))


# Remove StopWords
stop_words = stopwords.words('english')
raw_df['review'] = raw_df['review'].apply(lambda x: ' '.join([word for word in x.split() if word not in stop_words]))


# Verify your Results
i = df.sample(1).index[0]
# i = 100
print(raw_df['review'].iloc[i])
print('###########################################################')
print(df['review'].iloc[i])








raw_df





raw_df.describe()


raw_df.loc[raw_df['length'] == 32].iloc[0,0]






